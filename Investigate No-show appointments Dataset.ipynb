{
 "cells": [
  {
   "cell_type": "markdown",
   "metadata": {},
   "source": [
    "# Project: Investigate the No-show appointments Dataset (orignal source on kaggle)\n",
    "\n",
    "\n",
    "## Table of Contents\n",
    "<ul>\n",
    "<li><a href=\"#intro\">Introduction</a></li>\n",
    "<li><a href=\"#wrangling\">Data Wrangling</a></li>\n",
    "<li><a href=\"#eda\">Exploratory Data Analysis</a></li>\n",
    "<li><a href=\"#conclusions\">Conclusions</a></li>\n",
    "</ul>"
   ]
  },
  {
   "cell_type": "markdown",
   "metadata": {},
   "source": [
    "<a id='intro'></a>\n",
    "## Introduction\n",
    "\n",
    "> **Tip**: This section of the report, provide a brief introduction to the No-show appointments dataset I have selected to work on. \n",
    "\n",
    ">The No-show appointment dataset extract information from 100k medical appointment in Brazil and is focused on the question of whether or not patient shows up for their medical appointment.  A number of characteristics about the patient are explained in the variables below;\n",
    "\n",
    ">● **ScheduledDay** tells us on what day the patient scheduled for their appointment. \n",
    "\n",
    ">● **Neighborhood** indicates the location of the hospital. \n",
    "\n",
    ">● **Scholarship** indicates whether or not the patient is enrolled in Brasilian welfare program Bolsa Família. 0 : No and 1: Yes\n",
    "\n",
    ">● **Age** indicates the actual age of the patient in years as of when the data was collected.\n",
    "\n",
    ">● **PatientId** indicates the patient unique identity number. Every patient has its unique patientid.\n",
    "\n",
    ">● **Alcoholism** tells us weather the patient takes alcohol or not. 0 : No and 1: Yes\n",
    "\n",
    ">● **Diabetes** tells us weather the patient is diabetic or not.0 : No and 1: Yes\n",
    "\n",
    ">● **Handicap** tells us weather the patient is Handicap or not.\n",
    "\n",
    ">● **SMS_received** tells us weather the patient recieves SMS or not. 0 : No and 1: Yes\n",
    "\n",
    ">● **No-show** tells us if the patient showed up for their appointment or not.  With ‘No’ if the patient showed up to their appointment, and ‘Yes’ if they did not show up.\n",
    "\n",
    "\n",
    ">At the end of this investigation, we will be able to identify what features are important for us to know if a patient will show up for their scheduled appointment."
   ]
  },
  {
   "cell_type": "code",
   "execution_count": 25,
   "metadata": {},
   "outputs": [],
   "source": [
    "# import packages that will be used for this investigation.\n",
    "import pandas as pd\n",
    "import numpy as np\n",
    "import matplotlib.pyplot as plt"
   ]
  },
  {
   "cell_type": "markdown",
   "metadata": {},
   "source": [
    "> click [here](https://docs.google.com/spreadsheets/d/1CiA0jMMC6JDvdkZfNLDs2YLN-ayXBmLKdhj6-58YMuA/edit?usp=sharing) to view data set used for this project thanks."
   ]
  },
  {
   "cell_type": "markdown",
   "metadata": {},
   "source": [
    "<a id='wrangling'></a>\n",
    "## Data Wrangling and Data Cleaning\n",
    "\n",
    "> **Tip**: In this section of the report, you will load in the data, check for cleanliness, and then trim and clean your dataset for analysis. Make sure that you document your steps carefully and justify your cleaning decisions.\n",
    "\n",
    "### General Properties"
   ]
  },
  {
   "cell_type": "code",
   "execution_count": 26,
   "metadata": {},
   "outputs": [
    {
     "data": {
      "text/html": [
       "<div>\n",
       "<style scoped>\n",
       "    .dataframe tbody tr th:only-of-type {\n",
       "        vertical-align: middle;\n",
       "    }\n",
       "\n",
       "    .dataframe tbody tr th {\n",
       "        vertical-align: top;\n",
       "    }\n",
       "\n",
       "    .dataframe thead th {\n",
       "        text-align: right;\n",
       "    }\n",
       "</style>\n",
       "<table border=\"1\" class=\"dataframe\">\n",
       "  <thead>\n",
       "    <tr style=\"text-align: right;\">\n",
       "      <th></th>\n",
       "      <th>PatientId</th>\n",
       "      <th>AppointmentID</th>\n",
       "      <th>Gender</th>\n",
       "      <th>ScheduledDay</th>\n",
       "      <th>AppointmentDay</th>\n",
       "      <th>Age</th>\n",
       "      <th>Neighbourhood</th>\n",
       "      <th>Scholarship</th>\n",
       "      <th>Hipertension</th>\n",
       "      <th>Diabetes</th>\n",
       "      <th>Alcoholism</th>\n",
       "      <th>Handcap</th>\n",
       "      <th>SMS_received</th>\n",
       "      <th>No-show</th>\n",
       "    </tr>\n",
       "  </thead>\n",
       "  <tbody>\n",
       "    <tr>\n",
       "      <td>0</td>\n",
       "      <td>2.987250e+13</td>\n",
       "      <td>5642903</td>\n",
       "      <td>F</td>\n",
       "      <td>2016-04-29T18:38:08Z</td>\n",
       "      <td>2016-04-29T00:00:00Z</td>\n",
       "      <td>62</td>\n",
       "      <td>JARDIM DA PENHA</td>\n",
       "      <td>0</td>\n",
       "      <td>1</td>\n",
       "      <td>0</td>\n",
       "      <td>0</td>\n",
       "      <td>0</td>\n",
       "      <td>0</td>\n",
       "      <td>No</td>\n",
       "    </tr>\n",
       "    <tr>\n",
       "      <td>1</td>\n",
       "      <td>5.589978e+14</td>\n",
       "      <td>5642503</td>\n",
       "      <td>M</td>\n",
       "      <td>2016-04-29T16:08:27Z</td>\n",
       "      <td>2016-04-29T00:00:00Z</td>\n",
       "      <td>56</td>\n",
       "      <td>JARDIM DA PENHA</td>\n",
       "      <td>0</td>\n",
       "      <td>0</td>\n",
       "      <td>0</td>\n",
       "      <td>0</td>\n",
       "      <td>0</td>\n",
       "      <td>0</td>\n",
       "      <td>No</td>\n",
       "    </tr>\n",
       "    <tr>\n",
       "      <td>2</td>\n",
       "      <td>4.262962e+12</td>\n",
       "      <td>5642549</td>\n",
       "      <td>F</td>\n",
       "      <td>2016-04-29T16:19:04Z</td>\n",
       "      <td>2016-04-29T00:00:00Z</td>\n",
       "      <td>62</td>\n",
       "      <td>MATA DA PRAIA</td>\n",
       "      <td>0</td>\n",
       "      <td>0</td>\n",
       "      <td>0</td>\n",
       "      <td>0</td>\n",
       "      <td>0</td>\n",
       "      <td>0</td>\n",
       "      <td>No</td>\n",
       "    </tr>\n",
       "    <tr>\n",
       "      <td>3</td>\n",
       "      <td>8.679512e+11</td>\n",
       "      <td>5642828</td>\n",
       "      <td>F</td>\n",
       "      <td>2016-04-29T17:29:31Z</td>\n",
       "      <td>2016-04-29T00:00:00Z</td>\n",
       "      <td>8</td>\n",
       "      <td>PONTAL DE CAMBURI</td>\n",
       "      <td>0</td>\n",
       "      <td>0</td>\n",
       "      <td>0</td>\n",
       "      <td>0</td>\n",
       "      <td>0</td>\n",
       "      <td>0</td>\n",
       "      <td>No</td>\n",
       "    </tr>\n",
       "    <tr>\n",
       "      <td>4</td>\n",
       "      <td>8.841186e+12</td>\n",
       "      <td>5642494</td>\n",
       "      <td>F</td>\n",
       "      <td>2016-04-29T16:07:23Z</td>\n",
       "      <td>2016-04-29T00:00:00Z</td>\n",
       "      <td>56</td>\n",
       "      <td>JARDIM DA PENHA</td>\n",
       "      <td>0</td>\n",
       "      <td>1</td>\n",
       "      <td>1</td>\n",
       "      <td>0</td>\n",
       "      <td>0</td>\n",
       "      <td>0</td>\n",
       "      <td>No</td>\n",
       "    </tr>\n",
       "  </tbody>\n",
       "</table>\n",
       "</div>"
      ],
      "text/plain": [
       "      PatientId  AppointmentID Gender          ScheduledDay  \\\n",
       "0  2.987250e+13        5642903      F  2016-04-29T18:38:08Z   \n",
       "1  5.589978e+14        5642503      M  2016-04-29T16:08:27Z   \n",
       "2  4.262962e+12        5642549      F  2016-04-29T16:19:04Z   \n",
       "3  8.679512e+11        5642828      F  2016-04-29T17:29:31Z   \n",
       "4  8.841186e+12        5642494      F  2016-04-29T16:07:23Z   \n",
       "\n",
       "         AppointmentDay  Age      Neighbourhood  Scholarship  Hipertension  \\\n",
       "0  2016-04-29T00:00:00Z   62    JARDIM DA PENHA            0             1   \n",
       "1  2016-04-29T00:00:00Z   56    JARDIM DA PENHA            0             0   \n",
       "2  2016-04-29T00:00:00Z   62      MATA DA PRAIA            0             0   \n",
       "3  2016-04-29T00:00:00Z    8  PONTAL DE CAMBURI            0             0   \n",
       "4  2016-04-29T00:00:00Z   56    JARDIM DA PENHA            0             1   \n",
       "\n",
       "   Diabetes  Alcoholism  Handcap  SMS_received No-show  \n",
       "0         0           0        0             0      No  \n",
       "1         0           0        0             0      No  \n",
       "2         0           0        0             0      No  \n",
       "3         0           0        0             0      No  \n",
       "4         1           0        0             0      No  "
      ]
     },
     "execution_count": 26,
     "metadata": {},
     "output_type": "execute_result"
    }
   ],
   "source": [
    "#read the csv file and show the first five rows of the data frame\n",
    "df = pd.read_csv('noshowappointments-kagglev2-may-2016.csv')\n",
    "\n",
    "df.head()"
   ]
  },
  {
   "cell_type": "code",
   "execution_count": 27,
   "metadata": {},
   "outputs": [
    {
     "data": {
      "text/plain": [
       "(110527, 14)"
      ]
     },
     "execution_count": 27,
     "metadata": {},
     "output_type": "execute_result"
    }
   ],
   "source": [
    "#find the shape of the data set\n",
    "df.shape"
   ]
  },
  {
   "cell_type": "code",
   "execution_count": 28,
   "metadata": {},
   "outputs": [
    {
     "name": "stdout",
     "output_type": "stream",
     "text": [
      "<class 'pandas.core.frame.DataFrame'>\n",
      "RangeIndex: 110527 entries, 0 to 110526\n",
      "Data columns (total 14 columns):\n",
      "PatientId         110527 non-null float64\n",
      "AppointmentID     110527 non-null int64\n",
      "Gender            110527 non-null object\n",
      "ScheduledDay      110527 non-null object\n",
      "AppointmentDay    110527 non-null object\n",
      "Age               110527 non-null int64\n",
      "Neighbourhood     110527 non-null object\n",
      "Scholarship       110527 non-null int64\n",
      "Hipertension      110527 non-null int64\n",
      "Diabetes          110527 non-null int64\n",
      "Alcoholism        110527 non-null int64\n",
      "Handcap           110527 non-null int64\n",
      "SMS_received      110527 non-null int64\n",
      "No-show           110527 non-null object\n",
      "dtypes: float64(1), int64(8), object(5)\n",
      "memory usage: 11.8+ MB\n"
     ]
    }
   ],
   "source": [
    "# check if there are missing data and also check the data type for cosistency\n",
    "df.info()"
   ]
  },
  {
   "cell_type": "markdown",
   "metadata": {},
   "source": [
    "The dataframe above shows no missing variable. this looks good, but we need to change the data types of some variables like Scholarship, Hipertension, Diabetes, Alcoholism, Handicap and, SMS_received to type object since they are categorical variables"
   ]
  },
  {
   "cell_type": "code",
   "execution_count": 29,
   "metadata": {},
   "outputs": [
    {
     "data": {
      "text/html": [
       "<div>\n",
       "<style scoped>\n",
       "    .dataframe tbody tr th:only-of-type {\n",
       "        vertical-align: middle;\n",
       "    }\n",
       "\n",
       "    .dataframe tbody tr th {\n",
       "        vertical-align: top;\n",
       "    }\n",
       "\n",
       "    .dataframe thead th {\n",
       "        text-align: right;\n",
       "    }\n",
       "</style>\n",
       "<table border=\"1\" class=\"dataframe\">\n",
       "  <thead>\n",
       "    <tr style=\"text-align: right;\">\n",
       "      <th></th>\n",
       "      <th>PatientId</th>\n",
       "      <th>AppointmentID</th>\n",
       "      <th>Age</th>\n",
       "      <th>Scholarship</th>\n",
       "      <th>Hipertension</th>\n",
       "      <th>Diabetes</th>\n",
       "      <th>Alcoholism</th>\n",
       "      <th>Handcap</th>\n",
       "      <th>SMS_received</th>\n",
       "    </tr>\n",
       "  </thead>\n",
       "  <tbody>\n",
       "    <tr>\n",
       "      <td>count</td>\n",
       "      <td>1.105270e+05</td>\n",
       "      <td>1.105270e+05</td>\n",
       "      <td>110527.000000</td>\n",
       "      <td>110527.000000</td>\n",
       "      <td>110527.000000</td>\n",
       "      <td>110527.000000</td>\n",
       "      <td>110527.000000</td>\n",
       "      <td>110527.000000</td>\n",
       "      <td>110527.000000</td>\n",
       "    </tr>\n",
       "    <tr>\n",
       "      <td>mean</td>\n",
       "      <td>1.474963e+14</td>\n",
       "      <td>5.675305e+06</td>\n",
       "      <td>37.088874</td>\n",
       "      <td>0.098266</td>\n",
       "      <td>0.197246</td>\n",
       "      <td>0.071865</td>\n",
       "      <td>0.030400</td>\n",
       "      <td>0.022248</td>\n",
       "      <td>0.321026</td>\n",
       "    </tr>\n",
       "    <tr>\n",
       "      <td>std</td>\n",
       "      <td>2.560949e+14</td>\n",
       "      <td>7.129575e+04</td>\n",
       "      <td>23.110205</td>\n",
       "      <td>0.297675</td>\n",
       "      <td>0.397921</td>\n",
       "      <td>0.258265</td>\n",
       "      <td>0.171686</td>\n",
       "      <td>0.161543</td>\n",
       "      <td>0.466873</td>\n",
       "    </tr>\n",
       "    <tr>\n",
       "      <td>min</td>\n",
       "      <td>3.921784e+04</td>\n",
       "      <td>5.030230e+06</td>\n",
       "      <td>-1.000000</td>\n",
       "      <td>0.000000</td>\n",
       "      <td>0.000000</td>\n",
       "      <td>0.000000</td>\n",
       "      <td>0.000000</td>\n",
       "      <td>0.000000</td>\n",
       "      <td>0.000000</td>\n",
       "    </tr>\n",
       "    <tr>\n",
       "      <td>25%</td>\n",
       "      <td>4.172614e+12</td>\n",
       "      <td>5.640286e+06</td>\n",
       "      <td>18.000000</td>\n",
       "      <td>0.000000</td>\n",
       "      <td>0.000000</td>\n",
       "      <td>0.000000</td>\n",
       "      <td>0.000000</td>\n",
       "      <td>0.000000</td>\n",
       "      <td>0.000000</td>\n",
       "    </tr>\n",
       "    <tr>\n",
       "      <td>50%</td>\n",
       "      <td>3.173184e+13</td>\n",
       "      <td>5.680573e+06</td>\n",
       "      <td>37.000000</td>\n",
       "      <td>0.000000</td>\n",
       "      <td>0.000000</td>\n",
       "      <td>0.000000</td>\n",
       "      <td>0.000000</td>\n",
       "      <td>0.000000</td>\n",
       "      <td>0.000000</td>\n",
       "    </tr>\n",
       "    <tr>\n",
       "      <td>75%</td>\n",
       "      <td>9.439172e+13</td>\n",
       "      <td>5.725524e+06</td>\n",
       "      <td>55.000000</td>\n",
       "      <td>0.000000</td>\n",
       "      <td>0.000000</td>\n",
       "      <td>0.000000</td>\n",
       "      <td>0.000000</td>\n",
       "      <td>0.000000</td>\n",
       "      <td>1.000000</td>\n",
       "    </tr>\n",
       "    <tr>\n",
       "      <td>max</td>\n",
       "      <td>9.999816e+14</td>\n",
       "      <td>5.790484e+06</td>\n",
       "      <td>115.000000</td>\n",
       "      <td>1.000000</td>\n",
       "      <td>1.000000</td>\n",
       "      <td>1.000000</td>\n",
       "      <td>1.000000</td>\n",
       "      <td>4.000000</td>\n",
       "      <td>1.000000</td>\n",
       "    </tr>\n",
       "  </tbody>\n",
       "</table>\n",
       "</div>"
      ],
      "text/plain": [
       "          PatientId  AppointmentID            Age    Scholarship  \\\n",
       "count  1.105270e+05   1.105270e+05  110527.000000  110527.000000   \n",
       "mean   1.474963e+14   5.675305e+06      37.088874       0.098266   \n",
       "std    2.560949e+14   7.129575e+04      23.110205       0.297675   \n",
       "min    3.921784e+04   5.030230e+06      -1.000000       0.000000   \n",
       "25%    4.172614e+12   5.640286e+06      18.000000       0.000000   \n",
       "50%    3.173184e+13   5.680573e+06      37.000000       0.000000   \n",
       "75%    9.439172e+13   5.725524e+06      55.000000       0.000000   \n",
       "max    9.999816e+14   5.790484e+06     115.000000       1.000000   \n",
       "\n",
       "        Hipertension       Diabetes     Alcoholism        Handcap  \\\n",
       "count  110527.000000  110527.000000  110527.000000  110527.000000   \n",
       "mean        0.197246       0.071865       0.030400       0.022248   \n",
       "std         0.397921       0.258265       0.171686       0.161543   \n",
       "min         0.000000       0.000000       0.000000       0.000000   \n",
       "25%         0.000000       0.000000       0.000000       0.000000   \n",
       "50%         0.000000       0.000000       0.000000       0.000000   \n",
       "75%         0.000000       0.000000       0.000000       0.000000   \n",
       "max         1.000000       1.000000       1.000000       4.000000   \n",
       "\n",
       "        SMS_received  \n",
       "count  110527.000000  \n",
       "mean        0.321026  \n",
       "std         0.466873  \n",
       "min         0.000000  \n",
       "25%         0.000000  \n",
       "50%         0.000000  \n",
       "75%         1.000000  \n",
       "max         1.000000  "
      ]
     },
     "execution_count": 29,
     "metadata": {},
     "output_type": "execute_result"
    }
   ],
   "source": [
    "#basic descriptive statistics of the numeric colunms\n",
    "df.describe()"
   ]
  },
  {
   "cell_type": "code",
   "execution_count": 30,
   "metadata": {},
   "outputs": [],
   "source": [
    "# Convert PatientId from Float to Integer\n",
    "df['PatientId'] = df['PatientId'].astype('int64')\n",
    "\n",
    "# Convert ScheduledDay and AppointmentDay from 'object' type to 'datetime64[ns]'\n",
    "df['ScheduledDay'] = pd.to_datetime(df['ScheduledDay']).dt.date.astype('datetime64[ns]')\n",
    "df['AppointmentDay'] = pd.to_datetime(df['AppointmentDay']).dt.date.astype('datetime64[ns]')\n",
    "\n",
    "# Converting scholarship, hypertension, diabetes, alcoholism, handicap, smsrecieved to datatype object\n",
    "\n",
    "df['Scholarship'] = df['Scholarship'].astype('object')\n",
    "\n",
    "df['Hipertension'] = df['Hipertension'].astype('object')\n",
    "\n",
    "df['Diabetes'] = df['Diabetes'].astype('object')\n",
    "\n",
    "df['Alcoholism'] = df['Alcoholism'].astype('object')\n",
    "\n",
    "df['Handcap'] = df['Handcap'].astype('object')\n",
    "\n",
    "df['SMS_received'] = df['SMS_received'].astype('object')\n",
    "\n",
    "# Rename incorrect column names.\n",
    "df = df.rename(columns={'Hipertension': 'Hypertension', 'Handcap': 'Handicap', 'SMS_received': 'SMS_Received', 'No-show': 'No_Show'})\n"
   ]
  },
  {
   "cell_type": "code",
   "execution_count": 31,
   "metadata": {},
   "outputs": [
    {
     "data": {
      "text/html": [
       "<div>\n",
       "<style scoped>\n",
       "    .dataframe tbody tr th:only-of-type {\n",
       "        vertical-align: middle;\n",
       "    }\n",
       "\n",
       "    .dataframe tbody tr th {\n",
       "        vertical-align: top;\n",
       "    }\n",
       "\n",
       "    .dataframe thead th {\n",
       "        text-align: right;\n",
       "    }\n",
       "</style>\n",
       "<table border=\"1\" class=\"dataframe\">\n",
       "  <thead>\n",
       "    <tr style=\"text-align: right;\">\n",
       "      <th></th>\n",
       "      <th>PatientId</th>\n",
       "      <th>AppointmentID</th>\n",
       "      <th>Gender</th>\n",
       "      <th>ScheduledDay</th>\n",
       "      <th>AppointmentDay</th>\n",
       "      <th>Age</th>\n",
       "      <th>Neighbourhood</th>\n",
       "      <th>Scholarship</th>\n",
       "      <th>Hypertension</th>\n",
       "      <th>Diabetes</th>\n",
       "      <th>Alcoholism</th>\n",
       "      <th>Handicap</th>\n",
       "      <th>SMS_Received</th>\n",
       "      <th>No_Show</th>\n",
       "    </tr>\n",
       "  </thead>\n",
       "  <tbody>\n",
       "    <tr>\n",
       "      <td>0</td>\n",
       "      <td>29872499824296</td>\n",
       "      <td>5642903</td>\n",
       "      <td>F</td>\n",
       "      <td>2016-04-29</td>\n",
       "      <td>2016-04-29</td>\n",
       "      <td>62</td>\n",
       "      <td>JARDIM DA PENHA</td>\n",
       "      <td>0</td>\n",
       "      <td>1</td>\n",
       "      <td>0</td>\n",
       "      <td>0</td>\n",
       "      <td>0</td>\n",
       "      <td>0</td>\n",
       "      <td>No</td>\n",
       "    </tr>\n",
       "    <tr>\n",
       "      <td>1</td>\n",
       "      <td>558997776694438</td>\n",
       "      <td>5642503</td>\n",
       "      <td>M</td>\n",
       "      <td>2016-04-29</td>\n",
       "      <td>2016-04-29</td>\n",
       "      <td>56</td>\n",
       "      <td>JARDIM DA PENHA</td>\n",
       "      <td>0</td>\n",
       "      <td>0</td>\n",
       "      <td>0</td>\n",
       "      <td>0</td>\n",
       "      <td>0</td>\n",
       "      <td>0</td>\n",
       "      <td>No</td>\n",
       "    </tr>\n",
       "    <tr>\n",
       "      <td>2</td>\n",
       "      <td>4262962299951</td>\n",
       "      <td>5642549</td>\n",
       "      <td>F</td>\n",
       "      <td>2016-04-29</td>\n",
       "      <td>2016-04-29</td>\n",
       "      <td>62</td>\n",
       "      <td>MATA DA PRAIA</td>\n",
       "      <td>0</td>\n",
       "      <td>0</td>\n",
       "      <td>0</td>\n",
       "      <td>0</td>\n",
       "      <td>0</td>\n",
       "      <td>0</td>\n",
       "      <td>No</td>\n",
       "    </tr>\n",
       "    <tr>\n",
       "      <td>3</td>\n",
       "      <td>867951213174</td>\n",
       "      <td>5642828</td>\n",
       "      <td>F</td>\n",
       "      <td>2016-04-29</td>\n",
       "      <td>2016-04-29</td>\n",
       "      <td>8</td>\n",
       "      <td>PONTAL DE CAMBURI</td>\n",
       "      <td>0</td>\n",
       "      <td>0</td>\n",
       "      <td>0</td>\n",
       "      <td>0</td>\n",
       "      <td>0</td>\n",
       "      <td>0</td>\n",
       "      <td>No</td>\n",
       "    </tr>\n",
       "    <tr>\n",
       "      <td>4</td>\n",
       "      <td>8841186448183</td>\n",
       "      <td>5642494</td>\n",
       "      <td>F</td>\n",
       "      <td>2016-04-29</td>\n",
       "      <td>2016-04-29</td>\n",
       "      <td>56</td>\n",
       "      <td>JARDIM DA PENHA</td>\n",
       "      <td>0</td>\n",
       "      <td>1</td>\n",
       "      <td>1</td>\n",
       "      <td>0</td>\n",
       "      <td>0</td>\n",
       "      <td>0</td>\n",
       "      <td>No</td>\n",
       "    </tr>\n",
       "  </tbody>\n",
       "</table>\n",
       "</div>"
      ],
      "text/plain": [
       "         PatientId  AppointmentID Gender ScheduledDay AppointmentDay  Age  \\\n",
       "0   29872499824296        5642903      F   2016-04-29     2016-04-29   62   \n",
       "1  558997776694438        5642503      M   2016-04-29     2016-04-29   56   \n",
       "2    4262962299951        5642549      F   2016-04-29     2016-04-29   62   \n",
       "3     867951213174        5642828      F   2016-04-29     2016-04-29    8   \n",
       "4    8841186448183        5642494      F   2016-04-29     2016-04-29   56   \n",
       "\n",
       "       Neighbourhood Scholarship Hypertension Diabetes Alcoholism Handicap  \\\n",
       "0    JARDIM DA PENHA           0            1        0          0        0   \n",
       "1    JARDIM DA PENHA           0            0        0          0        0   \n",
       "2      MATA DA PRAIA           0            0        0          0        0   \n",
       "3  PONTAL DE CAMBURI           0            0        0          0        0   \n",
       "4    JARDIM DA PENHA           0            1        1          0        0   \n",
       "\n",
       "  SMS_Received No_Show  \n",
       "0            0      No  \n",
       "1            0      No  \n",
       "2            0      No  \n",
       "3            0      No  \n",
       "4            0      No  "
      ]
     },
     "execution_count": 31,
     "metadata": {},
     "output_type": "execute_result"
    }
   ],
   "source": [
    "# view dataframe to make sure changes made has refelected\n",
    "df.head()"
   ]
  },
  {
   "cell_type": "code",
   "execution_count": 32,
   "metadata": {},
   "outputs": [
    {
     "name": "stdout",
     "output_type": "stream",
     "text": [
      "<class 'pandas.core.frame.DataFrame'>\n",
      "RangeIndex: 110527 entries, 0 to 110526\n",
      "Data columns (total 14 columns):\n",
      "PatientId         110527 non-null int64\n",
      "AppointmentID     110527 non-null int64\n",
      "Gender            110527 non-null object\n",
      "ScheduledDay      110527 non-null datetime64[ns]\n",
      "AppointmentDay    110527 non-null datetime64[ns]\n",
      "Age               110527 non-null int64\n",
      "Neighbourhood     110527 non-null object\n",
      "Scholarship       110527 non-null object\n",
      "Hypertension      110527 non-null object\n",
      "Diabetes          110527 non-null object\n",
      "Alcoholism        110527 non-null object\n",
      "Handicap          110527 non-null object\n",
      "SMS_Received      110527 non-null object\n",
      "No_Show           110527 non-null object\n",
      "dtypes: datetime64[ns](2), int64(3), object(9)\n",
      "memory usage: 11.8+ MB\n"
     ]
    }
   ],
   "source": [
    "# view data info to make sure changes made has reflected\n",
    "df.info()"
   ]
  },
  {
   "cell_type": "code",
   "execution_count": 33,
   "metadata": {},
   "outputs": [],
   "source": [
    "# Get Day of the Week for ScheduledDay and AppointmentDay\n",
    "df['ScheduledDay_DayOfWeek'] = df['ScheduledDay'].dt.weekday_name\n",
    "df['AppointmentDay_DayOfWeek'] = df['AppointmentDay'].dt.weekday_name\n"
   ]
  },
  {
   "cell_type": "code",
   "execution_count": 34,
   "metadata": {},
   "outputs": [
    {
     "data": {
      "text/html": [
       "<div>\n",
       "<style scoped>\n",
       "    .dataframe tbody tr th:only-of-type {\n",
       "        vertical-align: middle;\n",
       "    }\n",
       "\n",
       "    .dataframe tbody tr th {\n",
       "        vertical-align: top;\n",
       "    }\n",
       "\n",
       "    .dataframe thead th {\n",
       "        text-align: right;\n",
       "    }\n",
       "</style>\n",
       "<table border=\"1\" class=\"dataframe\">\n",
       "  <thead>\n",
       "    <tr style=\"text-align: right;\">\n",
       "      <th></th>\n",
       "      <th>PatientId</th>\n",
       "      <th>AppointmentID</th>\n",
       "      <th>Gender</th>\n",
       "      <th>ScheduledDay</th>\n",
       "      <th>AppointmentDay</th>\n",
       "      <th>Age</th>\n",
       "      <th>Neighbourhood</th>\n",
       "      <th>Scholarship</th>\n",
       "      <th>Hypertension</th>\n",
       "      <th>Diabetes</th>\n",
       "      <th>Alcoholism</th>\n",
       "      <th>Handicap</th>\n",
       "      <th>SMS_Received</th>\n",
       "      <th>No_Show</th>\n",
       "      <th>ScheduledDay_DayOfWeek</th>\n",
       "      <th>AppointmentDay_DayOfWeek</th>\n",
       "    </tr>\n",
       "  </thead>\n",
       "  <tbody>\n",
       "    <tr>\n",
       "      <td>0</td>\n",
       "      <td>29872499824296</td>\n",
       "      <td>5642903</td>\n",
       "      <td>F</td>\n",
       "      <td>2016-04-29</td>\n",
       "      <td>2016-04-29</td>\n",
       "      <td>62</td>\n",
       "      <td>JARDIM DA PENHA</td>\n",
       "      <td>0</td>\n",
       "      <td>1</td>\n",
       "      <td>0</td>\n",
       "      <td>0</td>\n",
       "      <td>0</td>\n",
       "      <td>0</td>\n",
       "      <td>No</td>\n",
       "      <td>Friday</td>\n",
       "      <td>Friday</td>\n",
       "    </tr>\n",
       "    <tr>\n",
       "      <td>1</td>\n",
       "      <td>558997776694438</td>\n",
       "      <td>5642503</td>\n",
       "      <td>M</td>\n",
       "      <td>2016-04-29</td>\n",
       "      <td>2016-04-29</td>\n",
       "      <td>56</td>\n",
       "      <td>JARDIM DA PENHA</td>\n",
       "      <td>0</td>\n",
       "      <td>0</td>\n",
       "      <td>0</td>\n",
       "      <td>0</td>\n",
       "      <td>0</td>\n",
       "      <td>0</td>\n",
       "      <td>No</td>\n",
       "      <td>Friday</td>\n",
       "      <td>Friday</td>\n",
       "    </tr>\n",
       "    <tr>\n",
       "      <td>2</td>\n",
       "      <td>4262962299951</td>\n",
       "      <td>5642549</td>\n",
       "      <td>F</td>\n",
       "      <td>2016-04-29</td>\n",
       "      <td>2016-04-29</td>\n",
       "      <td>62</td>\n",
       "      <td>MATA DA PRAIA</td>\n",
       "      <td>0</td>\n",
       "      <td>0</td>\n",
       "      <td>0</td>\n",
       "      <td>0</td>\n",
       "      <td>0</td>\n",
       "      <td>0</td>\n",
       "      <td>No</td>\n",
       "      <td>Friday</td>\n",
       "      <td>Friday</td>\n",
       "    </tr>\n",
       "    <tr>\n",
       "      <td>3</td>\n",
       "      <td>867951213174</td>\n",
       "      <td>5642828</td>\n",
       "      <td>F</td>\n",
       "      <td>2016-04-29</td>\n",
       "      <td>2016-04-29</td>\n",
       "      <td>8</td>\n",
       "      <td>PONTAL DE CAMBURI</td>\n",
       "      <td>0</td>\n",
       "      <td>0</td>\n",
       "      <td>0</td>\n",
       "      <td>0</td>\n",
       "      <td>0</td>\n",
       "      <td>0</td>\n",
       "      <td>No</td>\n",
       "      <td>Friday</td>\n",
       "      <td>Friday</td>\n",
       "    </tr>\n",
       "    <tr>\n",
       "      <td>4</td>\n",
       "      <td>8841186448183</td>\n",
       "      <td>5642494</td>\n",
       "      <td>F</td>\n",
       "      <td>2016-04-29</td>\n",
       "      <td>2016-04-29</td>\n",
       "      <td>56</td>\n",
       "      <td>JARDIM DA PENHA</td>\n",
       "      <td>0</td>\n",
       "      <td>1</td>\n",
       "      <td>1</td>\n",
       "      <td>0</td>\n",
       "      <td>0</td>\n",
       "      <td>0</td>\n",
       "      <td>No</td>\n",
       "      <td>Friday</td>\n",
       "      <td>Friday</td>\n",
       "    </tr>\n",
       "  </tbody>\n",
       "</table>\n",
       "</div>"
      ],
      "text/plain": [
       "         PatientId  AppointmentID Gender ScheduledDay AppointmentDay  Age  \\\n",
       "0   29872499824296        5642903      F   2016-04-29     2016-04-29   62   \n",
       "1  558997776694438        5642503      M   2016-04-29     2016-04-29   56   \n",
       "2    4262962299951        5642549      F   2016-04-29     2016-04-29   62   \n",
       "3     867951213174        5642828      F   2016-04-29     2016-04-29    8   \n",
       "4    8841186448183        5642494      F   2016-04-29     2016-04-29   56   \n",
       "\n",
       "       Neighbourhood Scholarship Hypertension Diabetes Alcoholism Handicap  \\\n",
       "0    JARDIM DA PENHA           0            1        0          0        0   \n",
       "1    JARDIM DA PENHA           0            0        0          0        0   \n",
       "2      MATA DA PRAIA           0            0        0          0        0   \n",
       "3  PONTAL DE CAMBURI           0            0        0          0        0   \n",
       "4    JARDIM DA PENHA           0            1        1          0        0   \n",
       "\n",
       "  SMS_Received No_Show ScheduledDay_DayOfWeek AppointmentDay_DayOfWeek  \n",
       "0            0      No                 Friday                   Friday  \n",
       "1            0      No                 Friday                   Friday  \n",
       "2            0      No                 Friday                   Friday  \n",
       "3            0      No                 Friday                   Friday  \n",
       "4            0      No                 Friday                   Friday  "
      ]
     },
     "execution_count": 34,
     "metadata": {},
     "output_type": "execute_result"
    }
   ],
   "source": [
    "df.head()"
   ]
  },
  {
   "cell_type": "code",
   "execution_count": 35,
   "metadata": {},
   "outputs": [],
   "source": [
    "# drop variables that are not needed for EDA\n",
    "df.drop(['PatientId', 'AppointmentID', 'Neighbourhood'], inplace = True, axis = 1)"
   ]
  },
  {
   "cell_type": "code",
   "execution_count": 36,
   "metadata": {},
   "outputs": [
    {
     "name": "stdout",
     "output_type": "stream",
     "text": [
      "Gender Unique values: ['F' 'M'] \n",
      "\n",
      " Age Unique values: [ 62  56   8  76  23  39  21  19  30  29  22  28  54  15  50  40  46   4\n",
      "  13  65  45  51  32  12  61  38  79  18  63  64  85  59  55  71  49  78\n",
      "  31  58  27   6   2  11   7   0   3   1  69  68  60  67  36  10  35  20\n",
      "  26  34  33  16  42   5  47  17  41  44  37  24  66  77  81  70  53  75\n",
      "  73  52  74  43  89  57  14   9  48  83  72  25  80  87  88  84  82  90\n",
      "  94  86  91  98  92  96  93  95  97 102 115 100  99  -1] \n",
      "\n",
      " Scholarship Unique value: [0 1] \n",
      "\n",
      " Hypertension Unique values: [1 0] \n",
      "\n",
      " Diabetes Unique values: [0 1] \n",
      "\n",
      " Alcoholism Unique values: [0 1] \n",
      "\n",
      " Handicap Unique values: [0 1 2 3 4] \n",
      "\n",
      " SMS_Received Unique values: [0 1] \n",
      "\n",
      " No_Show Unique values: ['No' 'Yes'] \n",
      "\n",
      " ScheduledDay_DayOfWeek Unique values: ['Friday' 'Wednesday' 'Tuesday' 'Thursday' 'Monday' 'Saturday'] \n",
      "\n",
      " AppointmentDay_DayOfWeek Unique values: ['Friday' 'Tuesday' 'Monday' 'Wednesday' 'Thursday' 'Saturday']\n"
     ]
    }
   ],
   "source": [
    "print('Gender Unique values:',df.Gender.unique(), \n",
    "      '\\n''\\n', 'Age Unique values:', df.Age.unique(), \n",
    "      '\\n''\\n', 'Scholarship Unique value:', df.Scholarship.unique(),\n",
    "      '\\n''\\n', 'Hypertension Unique values:', df.Hypertension.unique(),\n",
    "     '\\n''\\n', 'Diabetes Unique values:', df.Diabetes.unique(),\n",
    "     '\\n''\\n', 'Alcoholism Unique values:', df.Alcoholism.unique(),\n",
    "      '\\n''\\n', 'Handicap Unique values:', df.Handicap.unique(),\n",
    "     '\\n''\\n', 'SMS_Received Unique values:', df.SMS_Received.unique(),\n",
    "     '\\n''\\n', 'No_Show Unique values:', df.No_Show.unique(),\n",
    "     '\\n''\\n', 'ScheduledDay_DayOfWeek Unique values:', df.ScheduledDay_DayOfWeek.unique(),\n",
    "     '\\n''\\n', 'AppointmentDay_DayOfWeek Unique values:', df.AppointmentDay_DayOfWeek.unique(),)"
   ]
  },
  {
   "cell_type": "markdown",
   "metadata": {},
   "source": [
    ">In the above cell we looked at the unique values in each of the variable in the dataframe. All looks good except that in the variable Age we have an age of -1 which is not suppose to be. So we will drip the row with the age -1."
   ]
  },
  {
   "cell_type": "code",
   "execution_count": 37,
   "metadata": {},
   "outputs": [
    {
     "data": {
      "text/plain": [
       "array([ 62,  56,   8,  76,  23,  39,  21,  19,  30,  29,  22,  28,  54,\n",
       "        15,  50,  40,  46,   4,  13,  65,  45,  51,  32,  12,  61,  38,\n",
       "        79,  18,  63,  64,  85,  59,  55,  71,  49,  78,  31,  58,  27,\n",
       "         6,   2,  11,   7,   0,   3,   1,  69,  68,  60,  67,  36,  10,\n",
       "        35,  20,  26,  34,  33,  16,  42,   5,  47,  17,  41,  44,  37,\n",
       "        24,  66,  77,  81,  70,  53,  75,  73,  52,  74,  43,  89,  57,\n",
       "        14,   9,  48,  83,  72,  25,  80,  87,  88,  84,  82,  90,  94,\n",
       "        86,  91,  98,  92,  96,  93,  95,  97, 102, 115, 100,  99],\n",
       "      dtype=int64)"
      ]
     },
     "execution_count": 37,
     "metadata": {},
     "output_type": "execute_result"
    }
   ],
   "source": [
    "df = df[df.Age >= 0]\n",
    "df.Age.unique()"
   ]
  },
  {
   "cell_type": "markdown",
   "metadata": {},
   "source": [
    ">At this point we are done with wrangling and cleaning the data frame. droping irrelevant columns and rows. changing data type of various columns in the data frame and performing featuring engineering to obtain two new columns in the data frame."
   ]
  },
  {
   "cell_type": "markdown",
   "metadata": {},
   "source": [
    "<a id='eda'></a>\n",
    "## Exploratory Data Analysis\n",
    "\n",
    "> **Tip**: Now that I've trimmed and cleaned MY data, I'm ready to move on to exploration. Compute statistics and create visualizations with the goal of addressing the research questions that is posed in the Introduction section. \n",
    "\n",
    "### Research Question 1: Do Age play an important role in determining if a patient comes for a visit or not."
   ]
  },
  {
   "cell_type": "code",
   "execution_count": 38,
   "metadata": {},
   "outputs": [
    {
     "data": {
      "image/png": "[encoded data removed]",
      "text/plain": [
       "<Figure size 432x288 with 1 Axes>"
      ]
     },
     "metadata": {
      "needs_background": "light"
     },
     "output_type": "display_data"
    }
   ],
   "source": [
    "df[df.No_Show == 'No']['Age'].hist(alpha = 0.5, Label = 'No', bins = 20)\n",
    "df[df.No_Show == 'Yes']['Age'].hist(alpha = 0.5, label = 'Yes', bins = 20)\n",
    "plt.legend()\n",
    "plt.xlabel('Age');"
   ]
  },
  {
   "cell_type": "code",
   "execution_count": 39,
   "metadata": {},
   "outputs": [
    {
     "name": "stdout",
     "output_type": "stream",
     "text": [
      "No_Show\n",
      "No     37.790504\n",
      "Yes    34.317667\n",
      "Name: Age, dtype: float64\n"
     ]
    },
    {
     "data": {
      "image/png": "[encoded data removed]",
      "text/plain": [
       "<Figure size 432x288 with 1 Axes>"
      ]
     },
     "metadata": {
      "needs_background": "light"
     },
     "output_type": "display_data"
    }
   ],
   "source": [
    "print(df.groupby('No_Show')['Age'].mean())\n",
    "\n",
    "df.groupby('No_Show')['Age'].mean().plot(kind = 'bar', rot = 1)\n",
    "plt.ylabel('Mean Age of respondent');"
   ]
  },
  {
   "cell_type": "markdown",
   "metadata": {},
   "source": [
    ">**Remark:** From the histogram above, you can see that majority of the patient who responded to their visit to the hopistal lies between the age bracket of 0yrs to 60yrs with infant (0yrs) having the highest paid visit. The distribution begins to drop from age bracket above 60yrs. The bar chart above shows the mean age of paitient who responded to their scheduled appointment verses those who did not respond. Those who responded had a mean age of 38yrs while does who did not respond has a mean age of 34yrs. From the histrogram we can see that infants are more likely to show for their scheduled appointment and age could play a roll in determining weather a paitient who show or no show for the visit to the hospital."
   ]
  },
  {
   "cell_type": "markdown",
   "metadata": {},
   "source": [
    "### Research Question 2 : Do Gender play an important role in determining if a patient comes for a visit or not."
   ]
  },
  {
   "cell_type": "code",
   "execution_count": 40,
   "metadata": {},
   "outputs": [
    {
     "name": "stdout",
     "output_type": "stream",
     "text": [
      "No_Show     No    Yes\n",
      "Gender               \n",
      "F        57245  14594\n",
      "M        30962   7725\n"
     ]
    },
    {
     "data": {
      "image/png": "[encoded data removed]",
      "text/plain": [
       "<Figure size 432x288 with 1 Axes>"
      ]
     },
     "metadata": {
      "needs_background": "light"
     },
     "output_type": "display_data"
    },
    {
     "name": "stdout",
     "output_type": "stream",
     "text": [
      "No_Show         No        Yes\n",
      "Gender                       \n",
      "F        51.793243  13.204133\n",
      "M        28.013318   6.989306 \n",
      "\n"
     ]
    },
    {
     "data": {
      "image/png": "[encoded data removed]",
      "text/plain": [
       "<Figure size 432x288 with 1 Axes>"
      ]
     },
     "metadata": {
      "needs_background": "light"
     },
     "output_type": "display_data"
    }
   ],
   "source": [
    "print(pd.crosstab(df.Gender, df.No_Show))\n",
    "\n",
    "pd.crosstab(df.Gender, df.No_Show).plot(kind = 'bar', title = 'Bar chart of Show/NoShow by Gender', rot = 1)\n",
    "plt.ylabel('Frequency')\n",
    "plt.show();\n",
    "\n",
    "\n",
    "crosstabgender=pd.crosstab(df.Gender, df.No_Show)\n",
    "print(crosstabgender/crosstabgender.sum().sum()*100, '\\n')\n",
    "cr = crosstabgender/crosstabgender.sum().sum()*100\n",
    "cr.plot(kind = 'bar', title = 'Bar chart of Show/NoShow by Gender', rot = 1)\n",
    "plt.ylabel('Percentage')\n",
    "plt.show();"
   ]
  },
  {
   "cell_type": "markdown",
   "metadata": {},
   "source": [
    ">**Remark:** From the chart above we can see that female recorded more patient who came for there vist than male. Approximately 52% of the population who responded to their visit where feamle and only 28% of the population came for the vist are of gender male. This implies that Gender could play a role wether a patient shows up or not."
   ]
  },
  {
   "cell_type": "markdown",
   "metadata": {},
   "source": [
    "### Research Question 3 : Do Scholarship play an important role in determining if a patient comes for a visit or not."
   ]
  },
  {
   "cell_type": "code",
   "execution_count": 41,
   "metadata": {},
   "outputs": [
    {
     "name": "stdout",
     "output_type": "stream",
     "text": [
      "No_Show         No    Yes\n",
      "Scholarship              \n",
      "0            79924  19741\n",
      "1             8283   2578\n"
     ]
    },
    {
     "data": {
      "image/png": "[encoded data removed]",
      "text/plain": [
       "<Figure size 432x288 with 1 Axes>"
      ]
     },
     "metadata": {
      "needs_background": "light"
     },
     "output_type": "display_data"
    },
    {
     "name": "stdout",
     "output_type": "stream",
     "text": [
      "No_Show             No        Yes\n",
      "Scholarship                      \n",
      "0            72.312397  17.860956\n",
      "1             7.494164   2.332483 \n",
      "\n"
     ]
    },
    {
     "data": {
      "image/png": "[encoded data removed]",
      "text/plain": [
       "<Figure size 432x288 with 1 Axes>"
      ]
     },
     "metadata": {
      "needs_background": "light"
     },
     "output_type": "display_data"
    }
   ],
   "source": [
    "print(pd.crosstab(df.Scholarship, df.No_Show))\n",
    "\n",
    "ax = pd.crosstab(df.Scholarship, df.No_Show).plot(kind = 'bar', title = 'Bar chart of Show/NoShow by Scholarship', rot = 1)\n",
    "plt.ylabel('Frequency')\n",
    "\n",
    "x_ticks_labels=['No', 'Yes']\n",
    "ax.set_xticklabels(x_ticks_labels)\n",
    "plt.show();\n",
    "\n",
    "crosstabScholarship=pd.crosstab(df.Scholarship, df.No_Show)\n",
    "\n",
    "print(crosstabScholarship/crosstabScholarship.sum().sum()*100, '\\n')\n",
    "\n",
    "cr = crosstabScholarship/crosstabScholarship.sum().sum()*100\n",
    "ax = cr.plot(kind = 'bar', title = 'Bar chart of Show/NoShow by Scholarship', rot = 1)\n",
    "plt.ylabel('Percentage')\n",
    "\n",
    "x_ticks_labels=['No', 'Yes']\n",
    "ax.set_xticklabels(x_ticks_labels)\n",
    "\n",
    "plt.show();"
   ]
  },
  {
   "cell_type": "raw",
   "metadata": {},
   "source": [
    ">From the above visualization we can see that around 72% of the population do not have scholarship and still showed up for their appointment while only 7% of the population have scholarship and still showed up. This implies that having a scholarship or not would play a role in determing if a patient shows up or not."
   ]
  },
  {
   "cell_type": "markdown",
   "metadata": {},
   "source": [
    "### Research Question 4 : Do Hypertension play an important role in determining if a patient comes for a visit or not."
   ]
  },
  {
   "cell_type": "code",
   "execution_count": 42,
   "metadata": {},
   "outputs": [
    {
     "name": "stdout",
     "output_type": "stream",
     "text": [
      "No_Show          No    Yes\n",
      "Hypertension              \n",
      "0             70178  18547\n",
      "1             18029   3772\n"
     ]
    },
    {
     "data": {
      "image/png": "[encoded data removed]",
      "text/plain": [
       "<Figure size 432x288 with 1 Axes>"
      ]
     },
     "metadata": {
      "needs_background": "light"
     },
     "output_type": "display_data"
    },
    {
     "name": "stdout",
     "output_type": "stream",
     "text": [
      "No_Show              No        Yes\n",
      "Hypertension                      \n",
      "0             63.494562  16.780667\n",
      "1             16.311999   3.412772 \n",
      "\n"
     ]
    },
    {
     "data": {
      "image/png": "[encoded data removed]",
      "text/plain": [
       "<Figure size 432x288 with 1 Axes>"
      ]
     },
     "metadata": {
      "needs_background": "light"
     },
     "output_type": "display_data"
    }
   ],
   "source": [
    "print(pd.crosstab(df.Hypertension, df.No_Show))\n",
    "\n",
    "ax = pd.crosstab(df.Hypertension, df.No_Show).plot(kind = 'bar', title = 'Bar chart of Show/NoShow by Hypertension', rot = 1)\n",
    "plt.ylabel('Frequency')\n",
    "x_ticks_labels=['No', 'Yes']\n",
    "ax.set_xticklabels(x_ticks_labels)\n",
    "plt.show();\n",
    "\n",
    "crosstabHypertension=pd.crosstab(df.Hypertension, df.No_Show)\n",
    "\n",
    "print(crosstabHypertension/crosstabHypertension.sum().sum()*100, '\\n')\n",
    "\n",
    "cr = crosstabHypertension/crosstabHypertension.sum().sum()*100\n",
    "ax = cr.plot(kind = 'bar', title = 'Bar chart of Show/NoShow by Hypertension', rot = 1)\n",
    "plt.ylabel('Percentage')\n",
    "x_ticks_labels=['No', 'Yes']\n",
    "ax.set_xticklabels(x_ticks_labels)\n",
    "plt.show();"
   ]
  },
  {
   "cell_type": "markdown",
   "metadata": {},
   "source": [
    ">From the above visualization we can see that around 63% of the population do not have Hypertension and still showed up for their appointment while only 16% of the population have Hypertension and still showed up. So, Hypertension feature could help us in determining if a patient will turn up for the visit after an appointment or not."
   ]
  },
  {
   "cell_type": "markdown",
   "metadata": {},
   "source": [
    "### Research Question 5 : Do Diabetes play an important role in determining if a patient comes for a visit or not."
   ]
  },
  {
   "cell_type": "code",
   "execution_count": 43,
   "metadata": {
    "scrolled": true
   },
   "outputs": [
    {
     "name": "stdout",
     "output_type": "stream",
     "text": [
      "No_Show      No    Yes\n",
      "Diabetes              \n",
      "0         81694  20889\n",
      "1          6513   1430\n"
     ]
    },
    {
     "data": {
      "image/png": "[encoded data removed]",
      "text/plain": [
       "<Figure size 432x288 with 1 Axes>"
      ]
     },
     "metadata": {
      "needs_background": "light"
     },
     "output_type": "display_data"
    },
    {
     "name": "stdout",
     "output_type": "stream",
     "text": [
      "No_Show          No        Yes\n",
      "Diabetes                      \n",
      "0         73.913830  18.899625\n",
      "1          5.892731   1.293813 \n",
      "\n"
     ]
    },
    {
     "data": {
      "image/png": "[encoded data removed]",
      "text/plain": [
       "<Figure size 432x288 with 1 Axes>"
      ]
     },
     "metadata": {
      "needs_background": "light"
     },
     "output_type": "display_data"
    }
   ],
   "source": [
    "print(pd.crosstab(df.Diabetes, df.No_Show))\n",
    "\n",
    "ax = pd.crosstab(df.Diabetes, df.No_Show).plot(kind = 'bar', title = 'Bar chart of Show/NoShow by Diabetes', rot = 1)\n",
    "plt.ylabel('Frequency')\n",
    "x_ticks_labels=['No', 'Yes']\n",
    "ax.set_xticklabels(x_ticks_labels)\n",
    "plt.show();\n",
    "\n",
    "crosstabDiabetes=pd.crosstab(df.Diabetes, df.No_Show)\n",
    "\n",
    "print(crosstabDiabetes/crosstabDiabetes.sum().sum()*100, '\\n')\n",
    "\n",
    "cr = crosstabDiabetes/crosstabDiabetes.sum().sum()*100\n",
    "ax = cr.plot(kind = 'bar', title = 'Bar chart of Show/NoShow by Diabetes', rot = 1)\n",
    "plt.ylabel('Percentage')\n",
    "x_ticks_labels=['No', 'Yes']\n",
    "ax.set_xticklabels(x_ticks_labels)\n",
    "plt.show();"
   ]
  },
  {
   "cell_type": "markdown",
   "metadata": {},
   "source": [
    ">**Remark:** From the above visualization we can see that around 73% of the population do not have Diabetes and still showed up for their appointment while only 6% of the population have Diabetes and still showed up. So, Diabetes feature could help us in determining if a patient will turn up for the visit after an appointment."
   ]
  },
  {
   "cell_type": "markdown",
   "metadata": {},
   "source": [
    "### Research Question 6 : Do Handicap play an important role in determining if a patient comes for a visit or not."
   ]
  },
  {
   "cell_type": "code",
   "execution_count": 44,
   "metadata": {
    "scrolled": true
   },
   "outputs": [
    {
     "name": "stdout",
     "output_type": "stream",
     "text": [
      "No_Show      No    Yes\n",
      "Handicap              \n",
      "0         86373  21912\n",
      "1          1676    366\n",
      "2           146     37\n",
      "3            10      3\n",
      "4             2      1\n"
     ]
    },
    {
     "data": {
      "image/png": "[encoded data removed]",
      "text/plain": [
       "<Figure size 432x288 with 1 Axes>"
      ]
     },
     "metadata": {
      "needs_background": "light"
     },
     "output_type": "display_data"
    },
    {
     "name": "stdout",
     "output_type": "stream",
     "text": [
      "No_Show          No        Yes\n",
      "Handicap                      \n",
      "0         78.147223  19.825200\n",
      "1          1.516385   0.331144\n",
      "2          0.132096   0.033476\n",
      "3          0.009048   0.002714\n",
      "4          0.001810   0.000905 \n",
      "\n"
     ]
    },
    {
     "data": {
      "image/png": "[encoded data removed]",
      "text/plain": [
       "<Figure size 432x288 with 1 Axes>"
      ]
     },
     "metadata": {
      "needs_background": "light"
     },
     "output_type": "display_data"
    }
   ],
   "source": [
    "print(pd.crosstab(df.Handicap, df.No_Show))\n",
    "\n",
    "pd.crosstab(df.Handicap, df.No_Show).plot(kind = 'bar', title = 'Bar chart of Show/NoShow by Handicap', rot = 1)\n",
    "plt.ylabel('Frequency')\n",
    "plt.show();\n",
    "\n",
    "crosstabHandicap=pd.crosstab(df.Handicap, df.No_Show)\n",
    "\n",
    "print(crosstabHandicap/crosstabHandicap.sum().sum()*100, '\\n')\n",
    "\n",
    "cr = crosstabHandicap/crosstabHandicap.sum().sum()*100\n",
    "cr.plot(kind = 'bar', title = 'Bar chart of Show/NoShow by Handicap', rot = 1)\n",
    "plt.ylabel('Percentage')\n",
    "plt.show();"
   ]
  },
  {
   "cell_type": "markdown",
   "metadata": {},
   "source": [
    ">**Remark:** From the above visualization we can see that around 78% of the population are not Handicap and still showed up for their appointment while only 19% of the population and still showed up. As we can see a clear distinction between different Handicap levels this feature will help us in determining if a patient will turn up for the visit or not."
   ]
  },
  {
   "cell_type": "markdown",
   "metadata": {},
   "source": [
    "### Research Question 7 : Do Alcoholism play an important role in determining if a patient comes for a visit or not."
   ]
  },
  {
   "cell_type": "code",
   "execution_count": 45,
   "metadata": {},
   "outputs": [
    {
     "name": "stdout",
     "output_type": "stream",
     "text": [
      "No_Show        No    Yes\n",
      "Alcoholism              \n",
      "0           85524  21642\n",
      "1            2683    677\n"
     ]
    },
    {
     "data": {
      "image/png": "[encoded data removed]",
      "text/plain": [
       "<Figure size 432x288 with 1 Axes>"
      ]
     },
     "metadata": {
      "needs_background": "light"
     },
     "output_type": "display_data"
    },
    {
     "name": "stdout",
     "output_type": "stream",
     "text": [
      "No_Show            No        Yes\n",
      "Alcoholism                      \n",
      "0           77.379078  19.580913\n",
      "1            2.427483   0.612526 \n",
      "\n"
     ]
    },
    {
     "data": {
      "image/png": "[encoded data removed]",
      "text/plain": [
       "<Figure size 432x288 with 1 Axes>"
      ]
     },
     "metadata": {
      "needs_background": "light"
     },
     "output_type": "display_data"
    }
   ],
   "source": [
    "print(pd.crosstab(df.Alcoholism, df.No_Show))\n",
    "\n",
    "ax = pd.crosstab(df.Alcoholism, df.No_Show).plot(kind = 'bar', title = 'Bar chart of Show/NoShow by Alcoholism', rot = 1)\n",
    "plt.ylabel('Frequency')\n",
    "x_ticks_labels=['No', 'Yes']\n",
    "ax.set_xticklabels(x_ticks_labels)\n",
    "plt.show();\n",
    "\n",
    "crosstabAlcoholism=pd.crosstab(df.Alcoholism, df.No_Show)\n",
    "\n",
    "print(crosstabAlcoholism/crosstabAlcoholism.sum().sum()*100, '\\n')\n",
    "\n",
    "cr = crosstabAlcoholism/crosstabAlcoholism.sum().sum()*100\n",
    "ax = cr.plot(kind = 'bar', title = 'Bar chart of Show/NoShow by Alcoholism', rot = 1)\n",
    "plt.ylabel('Percentage')\n",
    "x_ticks_labels=['No', 'Yes']\n",
    "ax.set_xticklabels(x_ticks_labels)\n",
    "plt.show();"
   ]
  },
  {
   "cell_type": "markdown",
   "metadata": {},
   "source": [
    ">**Remark:** From the above visualization we can see that around 77% of the population do not take Alcohol and still showed up for their appointment while only 2% of the population that do not take Alcohol showed up. So, Alcoholism feature could help us in determining if a patient will turn up for the visit after an appointment."
   ]
  },
  {
   "cell_type": "markdown",
   "metadata": {},
   "source": [
    "### Research Question 8 : Do Receiving SMS play an important role in determining if a patient comes for a visit or not."
   ]
  },
  {
   "cell_type": "code",
   "execution_count": 46,
   "metadata": {},
   "outputs": [
    {
     "name": "stdout",
     "output_type": "stream",
     "text": [
      "No_Show          No    Yes\n",
      "SMS_Received              \n",
      "0             62509  12535\n",
      "1             25698   9784\n"
     ]
    },
    {
     "data": {
      "image/png": "[encoded data removed]",
      "text/plain": [
       "<Figure size 432x288 with 1 Axes>"
      ]
     },
     "metadata": {
      "needs_background": "light"
     },
     "output_type": "display_data"
    },
    {
     "name": "stdout",
     "output_type": "stream",
     "text": [
      "No_Show              No        Yes\n",
      "SMS_Received                      \n",
      "0             56.555923  11.341223\n",
      "1             23.250638   8.852216 \n",
      "\n"
     ]
    },
    {
     "data": {
      "image/png": "[encoded data removed]",
      "text/plain": [
       "<Figure size 432x288 with 1 Axes>"
      ]
     },
     "metadata": {
      "needs_background": "light"
     },
     "output_type": "display_data"
    }
   ],
   "source": [
    "print(pd.crosstab(df.SMS_Received, df.No_Show))\n",
    "\n",
    "ax = pd.crosstab(df.SMS_Received, df.No_Show).plot(kind = 'bar', title = 'Bar chart of Show/NoShow by SMS_Received', rot = 1)\n",
    "plt.ylabel('Frequency')\n",
    "x_ticks_labels=['No', 'Yes']\n",
    "ax.set_xticklabels(x_ticks_labels)\n",
    "plt.show();\n",
    "\n",
    "crosstabSMS_Received=pd.crosstab(df.SMS_Received, df.No_Show)\n",
    "\n",
    "print(crosstabSMS_Received/crosstabSMS_Received.sum().sum()*100, '\\n')\n",
    "\n",
    "cr = crosstabSMS_Received/crosstabSMS_Received.sum().sum()*100\n",
    "ax = cr.plot(kind = 'bar', title = 'Bar chart of Show/NoShow by SMS_Received', rot = 1)\n",
    "plt.ylabel('Percentage')\n",
    "x_ticks_labels=['No', 'Yes']\n",
    "ax.set_xticklabels(x_ticks_labels)\n",
    "plt.show();"
   ]
  },
  {
   "cell_type": "markdown",
   "metadata": {},
   "source": [
    ">**Remark:** From the above visualization we can see that around 56% of the population do not recieve sms but still showed up for their appointment while only 23% of the population that recieve sms did not showed up. This looks opposite to what usually happens. People who do receive a reminder SMS usually tend to visit the hospital more than those who haven't received an SMS. Or this could be an SMS that was recived while booking an appointment and could possibly have no correlation with the visit probability. So, SMS_Recieved feature could help us in determining if a patient will show up or not."
   ]
  },
  {
   "cell_type": "markdown",
   "metadata": {},
   "source": [
    "### Research Question 9 : Do ScheduledDay_DayOfWeek play an important role in determining if a patient comes for a visit or not."
   ]
  },
  {
   "cell_type": "code",
   "execution_count": 47,
   "metadata": {},
   "outputs": [
    {
     "name": "stdout",
     "output_type": "stream",
     "text": [
      "No_Show                    No   Yes\n",
      "ScheduledDay_DayOfWeek             \n",
      "Friday                  15028  3887\n",
      "Monday                  18523  4561\n",
      "Saturday                   23     1\n",
      "Thursday                14373  3700\n",
      "Tuesday                 20877  5291\n",
      "Wednesday               19383  4879\n"
     ]
    },
    {
     "data": {
      "image/png": "[encoded data removed]",
      "text/plain": [
       "<Figure size 432x288 with 1 Axes>"
      ]
     },
     "metadata": {
      "needs_background": "light"
     },
     "output_type": "display_data"
    },
    {
     "name": "stdout",
     "output_type": "stream",
     "text": [
      "No_Show                        No       Yes\n",
      "ScheduledDay_DayOfWeek                     \n",
      "Friday                  13.596801  3.516820\n",
      "Monday                  16.758953  4.126631\n",
      "Saturday                 0.020810  0.000905\n",
      "Thursday                13.004180  3.347629\n",
      "Tuesday                 18.888768  4.787109\n",
      "Wednesday               17.537050  4.414346 \n",
      "\n"
     ]
    },
    {
     "data": {
      "image/png": "[encoded data removed]",
      "text/plain": [
       "<Figure size 432x288 with 1 Axes>"
      ]
     },
     "metadata": {
      "needs_background": "light"
     },
     "output_type": "display_data"
    }
   ],
   "source": [
    "print(pd.crosstab(df.ScheduledDay_DayOfWeek, df.No_Show))\n",
    "\n",
    "pd.crosstab(df.ScheduledDay_DayOfWeek, df.No_Show).plot(kind = 'bar', title = 'Bar chart of Show/NoShow by ScheduledDay_DayOfWeek', rot = 1)\n",
    "plt.ylabel('Frequency')\n",
    "plt.show();\n",
    "\n",
    "crosstabScheduledDay_DayOfWeek=pd.crosstab(df.ScheduledDay_DayOfWeek, df.No_Show)\n",
    "\n",
    "print(crosstabScheduledDay_DayOfWeek/crosstabScheduledDay_DayOfWeek.sum().sum()*100, '\\n')\n",
    "\n",
    "cr = crosstabScheduledDay_DayOfWeek/crosstabScheduledDay_DayOfWeek.sum().sum()*100\n",
    "cr.plot(kind = 'bar', title = 'Bar chart of Show/NoShow by ScheduledDay_DayOfWeek', rot = 1)\n",
    "plt.ylabel('Percentage')\n",
    "plt.show();"
   ]
  },
  {
   "cell_type": "markdown",
   "metadata": {},
   "source": [
    "> **Remark:** From the visualization above, we do not see a clear pattern in the patients visits based on the week day. But we can observe that on Saturday's the percentage of visits is zero. So, AppointmentDay_DOW may help us in predicting the visits by a small number."
   ]
  },
  {
   "cell_type": "markdown",
   "metadata": {},
   "source": [
    "### Research Question 10 : Do AppointmentDay_DayOfWeek play an important role in determining if a patient comes for a visit or not."
   ]
  },
  {
   "cell_type": "code",
   "execution_count": 48,
   "metadata": {},
   "outputs": [
    {
     "name": "stdout",
     "output_type": "stream",
     "text": [
      "No_Show                      No   Yes\n",
      "AppointmentDay_DayOfWeek             \n",
      "Friday                    14982  4037\n",
      "Monday                    18024  4690\n",
      "Saturday                     30     9\n",
      "Thursday                  13909  3338\n",
      "Tuesday                   20488  5152\n",
      "Wednesday                 20774  5093\n"
     ]
    },
    {
     "data": {
      "image/png": "[encoded data removed]",
      "text/plain": [
       "<Figure size 432x288 with 1 Axes>"
      ]
     },
     "metadata": {
      "needs_background": "light"
     },
     "output_type": "display_data"
    },
    {
     "name": "stdout",
     "output_type": "stream",
     "text": [
      "No_Show                          No       Yes\n",
      "AppointmentDay_DayOfWeek                     \n",
      "Friday                    13.555182  3.652534\n",
      "Monday                    16.307475  4.243345\n",
      "Saturday                   0.027143  0.008143\n",
      "Thursday                  12.584369  3.020104\n",
      "Tuesday                   18.536815  4.661347\n",
      "Wednesday                 18.795578  4.607966 \n",
      "\n"
     ]
    },
    {
     "data": {
      "image/png": "[encoded data removed]",
      "text/plain": [
       "<Figure size 432x288 with 1 Axes>"
      ]
     },
     "metadata": {
      "needs_background": "light"
     },
     "output_type": "display_data"
    }
   ],
   "source": [
    "print(pd.crosstab(df.AppointmentDay_DayOfWeek, df.No_Show))\n",
    "\n",
    "pd.crosstab(df.AppointmentDay_DayOfWeek, df.No_Show).plot(kind = 'bar', title = 'Bar chart of Show/NoShow by AppointmentDay_DayOfWeek', rot = 1)\n",
    "plt.ylabel('Frequency')\n",
    "plt.show();\n",
    "\n",
    "crosstabAppointmentDay_DayOfWeek=pd.crosstab(df.AppointmentDay_DayOfWeek, df.No_Show)\n",
    "\n",
    "print(crosstabAppointmentDay_DayOfWeek/crosstabAppointmentDay_DayOfWeek.sum().sum()*100, '\\n')\n",
    "\n",
    "cr = crosstabAppointmentDay_DayOfWeek/crosstabAppointmentDay_DayOfWeek.sum().sum()*100\n",
    "cr.plot(kind = 'bar', title = 'Bar chart of Show/NoShow by AppointmentDay_DayOfWeek', rot = 1)\n",
    "plt.ylabel('Percentage')\n",
    "plt.show();"
   ]
  },
  {
   "cell_type": "markdown",
   "metadata": {},
   "source": [
    "> **Remark:** From the visualization above, we do not see a clear pattern in the patients visits based on the week day. But we can observe that on Saturday's the percentage of visits is zero. So, AppointmentDay_DOW could help us in predicting the visits by a small number."
   ]
  },
  {
   "cell_type": "markdown",
   "metadata": {},
   "source": [
    "<a id='conclusions'></a>\n",
    "## Conclusions\n",
    "\n",
    ">From the analysis carried out above, two new variables where created which were AppointmentDay_DayOfWeek and ScheduledDay_DayOfWeek. This variable where created to identify the actual day which a patient scheduled for their appointment and the acutal they were go for their appointment. Almost all the varialbe considerd could help us in determing if a paitent would show up for their appointment or not.\n",
    "\n",
    ">Some of the limitation from the data are; most of the variables where not properly explained. for example variable like sms_recieved and handicap.\n",
    "\n",
    "> the resources I used for this project where numpy and pandas documentation and a post on [kaggle platform](https://www.kaggle.com/samratp/predict-show-noshow-eda-visualization-model/comments)"
   ]
  }
 ],
 "metadata": {
  "kernelspec": {
   "display_name": "Python 3",
   "language": "python",
   "name": "python3"
  },
  "language_info": {
   "codemirror_mode": {
    "name": "ipython",
    "version": 3
   },
   "file_extension": ".py",
   "mimetype": "text/x-python",
   "name": "python",
   "nbconvert_exporter": "python",
   "pygments_lexer": "ipython3",
   "version": "3.7.4"
  }
 },
 "nbformat": 4,
 "nbformat_minor": 2
}
